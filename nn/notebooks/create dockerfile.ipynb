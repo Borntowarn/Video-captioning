{
 "cells": [
  {
   "cell_type": "code",
   "execution_count": 1,
   "metadata": {},
   "outputs": [
    {
     "data": {
      "text/html": [
       "<pre style=\"white-space:pre;overflow-x:auto;line-height:normal;font-family:Menlo,'DejaVu Sans Mono',consolas,'Courier New',monospace\">Please login to <span style=\"color: #0000ff; text-decoration-color: #0000ff; text-decoration: underline\">https://cloud.coiled.io/profile</span> to get your token\n",
       "</pre>\n"
      ],
      "text/plain": [
       "Please login to \u001b[4;94mhttps://cloud.coiled.io/profile\u001b[0m to get your token\n"
      ]
     },
     "metadata": {},
     "output_type": "display_data"
    },
    {
     "name": "stdout",
     "output_type": "stream",
     "text": [
      "Token:Token:Token:"
     ]
    },
    {
     "ename": "KeyboardInterrupt",
     "evalue": "",
     "output_type": "error",
     "traceback": [
      "\u001b[1;31m---------------------------------------------------------------------------\u001b[0m",
      "\u001b[1;31mKeyboardInterrupt\u001b[0m                         Traceback (most recent call last)",
      "Cell \u001b[1;32mIn[1], line 3\u001b[0m\n\u001b[0;32m      1\u001b[0m \u001b[39mimport\u001b[39;00m \u001b[39mcoiled\u001b[39;00m\n\u001b[1;32m----> 3\u001b[0m coiled\u001b[39m.\u001b[39;49mcreate_software_environment( \n\u001b[0;32m      4\u001b[0m     name\u001b[39m=\u001b[39;49m\u001b[39m'\u001b[39;49m\u001b[39mmodelscope\u001b[39;49m\u001b[39m'\u001b[39;49m, \n\u001b[0;32m      5\u001b[0m     conda\u001b[39m=\u001b[39;49m\u001b[39m'\u001b[39;49m\u001b[39menvironment.yml\u001b[39;49m\u001b[39m'\u001b[39;49m \n\u001b[0;32m      6\u001b[0m )\n",
      "File \u001b[1;32mc:\\Users\\kozlo\\anaconda3\\envs\\modelscope\\lib\\site-packages\\coiled\\core.py:2372\u001b[0m, in \u001b[0;36mcreate_software_environment\u001b[1;34m(name, account, conda, pip, container, log_output, post_build, conda_env_name, backend_options, private, force_rebuild, environ, use_entrypoint, new_build_backend, gpu_enabled)\u001b[0m\n\u001b[0;32m   2329\u001b[0m \u001b[39m\u001b[39m\u001b[39m\"\"\"Create a software environment\u001b[39;00m\n\u001b[0;32m   2330\u001b[0m \n\u001b[0;32m   2331\u001b[0m \u001b[39m.. seealso::\u001b[39;00m\n\u001b[1;32m   (...)\u001b[0m\n\u001b[0;32m   2368\u001b[0m \u001b[39m    Set CUDA version for Conda\u001b[39;00m\n\u001b[0;32m   2369\u001b[0m \u001b[39m\"\"\"\u001b[39;00m\n\u001b[0;32m   2370\u001b[0m error \u001b[39m=\u001b[39m \u001b[39mFalse\u001b[39;00m\n\u001b[1;32m-> 2372\u001b[0m \u001b[39mwith\u001b[39;00m Cloud() \u001b[39mas\u001b[39;00m cloud:\n\u001b[0;32m   2373\u001b[0m     \u001b[39mtry\u001b[39;00m:\n\u001b[0;32m   2374\u001b[0m         \u001b[39mreturn\u001b[39;00m cloud\u001b[39m.\u001b[39mcreate_software_environment(\n\u001b[0;32m   2375\u001b[0m             name\u001b[39m=\u001b[39mname,\n\u001b[0;32m   2376\u001b[0m             account\u001b[39m=\u001b[39maccount,\n\u001b[1;32m   (...)\u001b[0m\n\u001b[0;32m   2389\u001b[0m             gpu_enabled\u001b[39m=\u001b[39mgpu_enabled,\n\u001b[0;32m   2390\u001b[0m         )\n",
      "File \u001b[1;32mc:\\Users\\kozlo\\anaconda3\\envs\\modelscope\\lib\\site-packages\\coiled\\core.py:296\u001b[0m, in \u001b[0;36mCloud.__init__\u001b[1;34m(self, user, token, server, account, asynchronous, loop, default_cluster_timeout)\u001b[0m\n\u001b[0;32m    293\u001b[0m     \u001b[39mself\u001b[39m\u001b[39m.\u001b[39m_recent_sync\u001b[39m.\u001b[39mappend(weakref\u001b[39m.\u001b[39mref(cast(Cloud[Sync], \u001b[39mself\u001b[39m)))\n\u001b[0;32m    295\u001b[0m \u001b[39mif\u001b[39;00m \u001b[39mnot\u001b[39;00m \u001b[39mself\u001b[39m\u001b[39m.\u001b[39masynchronous:\n\u001b[1;32m--> 296\u001b[0m     \u001b[39mself\u001b[39;49m\u001b[39m.\u001b[39;49m_sync(\u001b[39mself\u001b[39;49m\u001b[39m.\u001b[39;49m_start)\n",
      "File \u001b[1;32mc:\\Users\\kozlo\\anaconda3\\envs\\modelscope\\lib\\site-packages\\coiled\\core.py:527\u001b[0m, in \u001b[0;36mCloud._sync\u001b[1;34m(self, func, *args, **kwargs)\u001b[0m\n\u001b[0;32m    525\u001b[0m     \u001b[39mreturn\u001b[39;00m future\n\u001b[0;32m    526\u001b[0m \u001b[39melse\u001b[39;00m:\n\u001b[1;32m--> 527\u001b[0m     \u001b[39mreturn\u001b[39;00m sync(\u001b[39mself\u001b[39;49m\u001b[39m.\u001b[39;49mloop, func, \u001b[39m*\u001b[39;49margs, \u001b[39m*\u001b[39;49m\u001b[39m*\u001b[39;49mkwargs)\n",
      "File \u001b[1;32mc:\\Users\\kozlo\\anaconda3\\envs\\modelscope\\lib\\site-packages\\distributed\\utils.py:412\u001b[0m, in \u001b[0;36msync\u001b[1;34m(loop, func, callback_timeout, *args, **kwargs)\u001b[0m\n\u001b[0;32m    410\u001b[0m \u001b[39melse\u001b[39;00m:\n\u001b[0;32m    411\u001b[0m     \u001b[39mwhile\u001b[39;00m \u001b[39mnot\u001b[39;00m e\u001b[39m.\u001b[39mis_set():\n\u001b[1;32m--> 412\u001b[0m         wait(\u001b[39m10\u001b[39;49m)\n\u001b[0;32m    414\u001b[0m \u001b[39mif\u001b[39;00m error:\n\u001b[0;32m    415\u001b[0m     typ, exc, tb \u001b[39m=\u001b[39m error\n",
      "File \u001b[1;32mc:\\Users\\kozlo\\anaconda3\\envs\\modelscope\\lib\\site-packages\\distributed\\utils.py:401\u001b[0m, in \u001b[0;36msync.<locals>.wait\u001b[1;34m(timeout)\u001b[0m\n\u001b[0;32m    399\u001b[0m \u001b[39mdef\u001b[39;00m \u001b[39mwait\u001b[39m(timeout):\n\u001b[0;32m    400\u001b[0m     \u001b[39mtry\u001b[39;00m:\n\u001b[1;32m--> 401\u001b[0m         \u001b[39mreturn\u001b[39;00m e\u001b[39m.\u001b[39;49mwait(timeout)\n\u001b[0;32m    402\u001b[0m     \u001b[39mexcept\u001b[39;00m \u001b[39mKeyboardInterrupt\u001b[39;00m:\n\u001b[0;32m    403\u001b[0m         loop\u001b[39m.\u001b[39madd_callback(cancel)\n",
      "File \u001b[1;32mc:\\Users\\kozlo\\anaconda3\\envs\\modelscope\\lib\\threading.py:558\u001b[0m, in \u001b[0;36mEvent.wait\u001b[1;34m(self, timeout)\u001b[0m\n\u001b[0;32m    556\u001b[0m signaled \u001b[39m=\u001b[39m \u001b[39mself\u001b[39m\u001b[39m.\u001b[39m_flag\n\u001b[0;32m    557\u001b[0m \u001b[39mif\u001b[39;00m \u001b[39mnot\u001b[39;00m signaled:\n\u001b[1;32m--> 558\u001b[0m     signaled \u001b[39m=\u001b[39m \u001b[39mself\u001b[39;49m\u001b[39m.\u001b[39;49m_cond\u001b[39m.\u001b[39;49mwait(timeout)\n\u001b[0;32m    559\u001b[0m \u001b[39mreturn\u001b[39;00m signaled\n",
      "File \u001b[1;32mc:\\Users\\kozlo\\anaconda3\\envs\\modelscope\\lib\\threading.py:306\u001b[0m, in \u001b[0;36mCondition.wait\u001b[1;34m(self, timeout)\u001b[0m\n\u001b[0;32m    304\u001b[0m \u001b[39melse\u001b[39;00m:\n\u001b[0;32m    305\u001b[0m     \u001b[39mif\u001b[39;00m timeout \u001b[39m>\u001b[39m \u001b[39m0\u001b[39m:\n\u001b[1;32m--> 306\u001b[0m         gotit \u001b[39m=\u001b[39m waiter\u001b[39m.\u001b[39;49macquire(\u001b[39mTrue\u001b[39;49;00m, timeout)\n\u001b[0;32m    307\u001b[0m     \u001b[39melse\u001b[39;00m:\n\u001b[0;32m    308\u001b[0m         gotit \u001b[39m=\u001b[39m waiter\u001b[39m.\u001b[39macquire(\u001b[39mFalse\u001b[39;00m)\n",
      "\u001b[1;31mKeyboardInterrupt\u001b[0m: "
     ]
    },
    {
     "name": "stdout",
     "output_type": "stream",
     "text": [
      "Token:"
     ]
    }
   ],
   "source": [
    "import coiled\n",
    " \n",
    "coiled.create_software_environment( \n",
    "    name='modelscope', \n",
    "    conda='environment.yml' \n",
    ")"
   ]
  }
 ],
 "metadata": {
  "kernelspec": {
   "display_name": "modelscope",
   "language": "python",
   "name": "python3"
  },
  "language_info": {
   "codemirror_mode": {
    "name": "ipython",
    "version": 3
   },
   "file_extension": ".py",
   "mimetype": "text/x-python",
   "name": "python",
   "nbconvert_exporter": "python",
   "pygments_lexer": "ipython3",
   "version": "3.8.5"
  },
  "orig_nbformat": 4
 },
 "nbformat": 4,
 "nbformat_minor": 2
}
