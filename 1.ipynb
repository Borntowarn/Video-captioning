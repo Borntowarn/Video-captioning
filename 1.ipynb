{
 "cells": [
  {
   "cell_type": "code",
   "execution_count": 2,
   "metadata": {},
   "outputs": [
    {
     "name": "stderr",
     "output_type": "stream",
     "text": [
      "t:   0%|          | 2/1440 [00:40<8:10:37, 20.47s/it, now=None]"
     ]
    },
    {
     "name": "stdout",
     "output_type": "stream",
     "text": [
      "0 60\n",
      "60 187.29\n",
      "[<moviepy.video.io.VideoFileClip.VideoFileClip object at 0x00000248544095B0>, <moviepy.video.io.VideoFileClip.VideoFileClip object at 0x00000248258661F0>]\n",
      "[<moviepy.video.io.VideoFileClip.VideoFileClip object at 0x00000248544095B0>, <moviepy.video.io.VideoFileClip.VideoFileClip object at 0x00000248258661F0>]\n",
      "<moviepy.video.io.VideoFileClip.VideoFileClip object at 0x00000248544095B0>\n",
      "Moviepy - Building video 0.mp4.\n",
      "MoviePy - Writing audio in 0TEMP_MPY_wvf_snd.mp3\n"
     ]
    },
    {
     "name": "stderr",
     "output_type": "stream",
     "text": [
      "t:   0%|          | 2/1440 [00:41<8:22:39, 20.97s/it, now=None]"
     ]
    },
    {
     "name": "stdout",
     "output_type": "stream",
     "text": [
      "MoviePy - Done.\n",
      "Moviepy - Writing video 0.mp4\n",
      "\n"
     ]
    },
    {
     "name": "stderr",
     "output_type": "stream",
     "text": [
      "t:   0%|          | 2/1440 [00:46<9:21:53, 23.44s/it, now=None]"
     ]
    },
    {
     "name": "stdout",
     "output_type": "stream",
     "text": [
      "Moviepy - Done !\n",
      "Moviepy - video ready 0.mp4\n",
      "<moviepy.video.io.VideoFileClip.VideoFileClip object at 0x00000248258661F0>\n",
      "Moviepy - Building video 1.mp4.\n",
      "MoviePy - Writing audio in 1TEMP_MPY_wvf_snd.mp3\n"
     ]
    },
    {
     "name": "stderr",
     "output_type": "stream",
     "text": [
      "t:   0%|          | 2/1440 [00:49<9:49:16, 24.59s/it, now=None]"
     ]
    },
    {
     "name": "stdout",
     "output_type": "stream",
     "text": [
      "MoviePy - Done.\n",
      "Moviepy - Writing video 1.mp4\n",
      "\n"
     ]
    },
    {
     "name": "stderr",
     "output_type": "stream",
     "text": [
      "t:   0%|          | 2/1440 [00:58<11:44:18, 29.39s/it, now=None]"
     ]
    },
    {
     "name": "stdout",
     "output_type": "stream",
     "text": [
      "Moviepy - Done !\n",
      "Moviepy - video ready 1.mp4\n"
     ]
    }
   ],
   "source": [
    "import moviepy.editor as mp\n",
    "\n",
    "clip = mp.VideoFileClip('data/films/video0.mp4')\n",
    "clips = []\n",
    "first_clip_durations = [60, 300, 600]\n",
    "step = 0\n",
    "cur_time = 0\n",
    "end_time = 0\n",
    "while end_time < int(clip.duration):\n",
    "    end_time += first_clip_durations[step]\n",
    "    if end_time > clip.duration:\n",
    "        end_time = clip.duration\n",
    "    print(cur_time, end_time)\n",
    "    clips.append(clip.subclip(cur_time, end_time))\n",
    "    cur_time = end_time\n",
    "    step += 1\n",
    "print(clips)\n",
    "                \n",
    "            \n",
    "    \n",
    "broken_film = False\n",
    "print(clips)\n",
    "for i, clip in enumerate(clips):\n",
    "    clip_filename = f\"{i}.mp4\"\n",
    "    clip_path = clip_filename\n",
    "    print(clip)\n",
    "    clip.write_videofile(clip_path)"
   ]
  }
 ],
 "metadata": {
  "kernelspec": {
   "display_name": "myenv",
   "language": "python",
   "name": "python3"
  },
  "language_info": {
   "codemirror_mode": {
    "name": "ipython",
    "version": 3
   },
   "file_extension": ".py",
   "mimetype": "text/x-python",
   "name": "python",
   "nbconvert_exporter": "python",
   "pygments_lexer": "ipython3",
   "version": "3.8.5"
  },
  "orig_nbformat": 4
 },
 "nbformat": 4,
 "nbformat_minor": 2
}
